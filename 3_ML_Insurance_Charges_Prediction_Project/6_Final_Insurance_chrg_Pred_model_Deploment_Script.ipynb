{
 "cells": [
  {
   "cell_type": "code",
   "execution_count": 20,
   "metadata": {},
   "outputs": [
    {
     "data": {
      "text/plain": [
       "array([[ 0.89108031, -0.07576237, -0.0755796 ,  1.01127431, -0.49929923],\n",
       "       [ 0.5336223 , -0.21009861, -0.0755796 , -0.98885138, -0.49929923],\n",
       "       [ 0.6051139 ,  1.60182214,  0.75672907,  1.01127431,  2.00280702],\n",
       "       ...,\n",
       "       [-1.46814257,  0.65256665,  0.75672907, -0.98885138,  2.00280702],\n",
       "       [-0.82471815,  0.37742013,  1.58903774,  1.01127431, -0.49929923],\n",
       "       [ 0.89108031,  1.24817794,  0.75672907, -0.98885138, -0.49929923]])"
      ]
     },
     "execution_count": 20,
     "metadata": {},
     "output_type": "execute_result"
    }
   ],
   "source": [
    "#Saving Final model\n",
    "import numpy as np\n",
    "import matplotlib.pyplot as plt\n",
    "import pandas as pd\n",
    "dataset = pd.read_csv('insurance_pre.csv')\n",
    "dataset = pd.get_dummies(dataset,drop_first=True)\n",
    "#identifying inputs\n",
    "input_var=dataset[['age', 'bmi', 'children', 'sex_male', 'smoker_yes']]\n",
    "#identifying output\n",
    "output_var=dataset['charges']\n",
    "#split into training set and test\n",
    "from sklearn.model_selection import train_test_split\n",
    "x_train, x_test, y_train, y_test = train_test_split(input_var,output_var,test_size=1/3, random_state=0)\n",
    "#we are going to standardization to enhance the model training\n",
    "from sklearn.preprocessing import StandardScaler\n",
    "sc=StandardScaler()\n",
    "x_train=sc.fit_transform(x_train)\n",
    "#fit_transform will train model with standardization\n",
    "x_test=sc.transform(x_test)\n",
    "x_test"
   ]
  },
  {
   "cell_type": "code",
   "execution_count": 23,
   "metadata": {},
   "outputs": [
    {
     "name": "stdout",
     "output_type": "stream",
     "text": [
      "Age:25\n",
      "BMI:26\n",
      "Children:3\n",
      "Sex Male 0 or 1:0\n",
      "Smoker Yes 0 or 1:1\n"
     ]
    }
   ],
   "source": [
    "#i_age=25\n",
    "#i_bmi=26\n",
    "#i_children=3\n",
    "#i_sex_male=0\n",
    "#i_smoker_yes=1\n",
    "#input_1=[25,26,3,0,1]\n",
    "#preinput=sc.transform([[25,26,3,0,1]])\n",
    "#preinput=sc.transform([[i_age,i_bmi,i_children,i_sex_male,i_smoker_yes]])\n",
    "#preinput=sc.transform([input_1])\n",
    "age_input=float(input(\"Age:\"))\n",
    "bmi_input=float(input(\"BMI:\"))\n",
    "children_input=float(input(\"Children:\"))\n",
    "sex_male_input=int(input(\"Sex Male 0 or 1:\"))\n",
    "smoker_yes_input=int(input(\"Smoker Yes 0 or 1:\"))"
   ]
  },
  {
   "cell_type": "code",
   "execution_count": 24,
   "metadata": {},
   "outputs": [
    {
     "name": "stderr",
     "output_type": "stream",
     "text": [
      "C:\\anaconda3\\lib\\site-packages\\sklearn\\base.py:451: UserWarning: X does not have valid feature names, but StandardScaler was fitted with feature names\n",
      "  \"X does not have valid feature names, but\"\n"
     ]
    }
   ],
   "source": [
    "preinput=sc.transform([[age_input,bmi_input,children_input,sex_male_input,smoker_yes_input]])"
   ]
  },
  {
   "cell_type": "code",
   "execution_count": 27,
   "metadata": {},
   "outputs": [],
   "source": [
    "#Insurance_chrg_Pred_model_Deployment_Script\n",
    "import pickle\n",
    "#filename=\"RF_n75_insurance_chrg_pred_model.pkl\"\n",
    "filename=\"insurance_chrg_pred_final_model.pkl\"\n",
    "loaded_model=pickle.load(open(filename,'rb'))"
   ]
  },
  {
   "cell_type": "code",
   "execution_count": 26,
   "metadata": {},
   "outputs": [
    {
     "data": {
      "text/plain": [
       "array([[-1.03919296, -0.75553612,  1.58903774, -0.98885138,  2.00280702]])"
      ]
     },
     "execution_count": 26,
     "metadata": {},
     "output_type": "execute_result"
    }
   ],
   "source": [
    "preinput"
   ]
  },
  {
   "cell_type": "code",
   "execution_count": 3,
   "metadata": {},
   "outputs": [],
   "source": [
    "#Pre-Process  the input before passing"
   ]
  },
  {
   "cell_type": "code",
   "execution_count": 30,
   "metadata": {},
   "outputs": [
    {
     "data": {
      "text/plain": [
       "array([19629.67289475])"
      ]
     },
     "execution_count": 30,
     "metadata": {},
     "output_type": "execute_result"
    }
   ],
   "source": [
    "result=loaded_model.predict(preinput) #Testing \n",
    "result\n"
   ]
  },
  {
   "cell_type": "code",
   "execution_count": null,
   "metadata": {},
   "outputs": [],
   "source": []
  }
 ],
 "metadata": {
  "kernelspec": {
   "display_name": "Python 3",
   "language": "python",
   "name": "python3"
  },
  "language_info": {
   "codemirror_mode": {
    "name": "ipython",
    "version": 3
   },
   "file_extension": ".py",
   "mimetype": "text/x-python",
   "name": "python",
   "nbconvert_exporter": "python",
   "pygments_lexer": "ipython3",
   "version": "3.7.4"
  }
 },
 "nbformat": 4,
 "nbformat_minor": 2
}
